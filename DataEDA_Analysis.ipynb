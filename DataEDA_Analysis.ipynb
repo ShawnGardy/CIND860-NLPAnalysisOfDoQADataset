{
  "nbformat": 4,
  "nbformat_minor": 0,
  "metadata": {
    "colab": {
      "provenance": []
    },
    "kernelspec": {
      "name": "python3",
      "display_name": "Python 3"
    },
    "language_info": {
      "name": "python"
    }
  },
  "cells": [
    {
      "cell_type": "code",
      "execution_count": 1,
      "metadata": {
        "id": "tnaD1uqsrTfd",
        "colab": {
          "base_uri": "https://localhost:8080/"
        },
        "outputId": "8162b8ca-17f9-419a-b9b4-18a8d18e9c58"
      },
      "outputs": [
        {
          "output_type": "stream",
          "name": "stdout",
          "text": [
            "Requirement already satisfied: textatistic in /usr/local/lib/python3.10/dist-packages (0.0.1)\n",
            "Requirement already satisfied: pyhyphen>=2.0.5 in /usr/local/lib/python3.10/dist-packages (from textatistic) (4.0.3)\n",
            "Requirement already satisfied: wheel>=0.36.0 in /usr/local/lib/python3.10/dist-packages (from pyhyphen>=2.0.5->textatistic) (0.41.2)\n",
            "Requirement already satisfied: setuptools>=52.0 in /usr/local/lib/python3.10/dist-packages (from pyhyphen>=2.0.5->textatistic) (67.7.2)\n",
            "Requirement already satisfied: appdirs>=1.4.0 in /usr/local/lib/python3.10/dist-packages (from pyhyphen>=2.0.5->textatistic) (1.4.4)\n",
            "Requirement already satisfied: requests>=2.25 in /usr/local/lib/python3.10/dist-packages (from pyhyphen>=2.0.5->textatistic) (2.31.0)\n",
            "Requirement already satisfied: charset-normalizer<4,>=2 in /usr/local/lib/python3.10/dist-packages (from requests>=2.25->pyhyphen>=2.0.5->textatistic) (3.3.0)\n",
            "Requirement already satisfied: idna<4,>=2.5 in /usr/local/lib/python3.10/dist-packages (from requests>=2.25->pyhyphen>=2.0.5->textatistic) (3.4)\n",
            "Requirement already satisfied: urllib3<3,>=1.21.1 in /usr/local/lib/python3.10/dist-packages (from requests>=2.25->pyhyphen>=2.0.5->textatistic) (2.0.7)\n",
            "Requirement already satisfied: certifi>=2017.4.17 in /usr/local/lib/python3.10/dist-packages (from requests>=2.25->pyhyphen>=2.0.5->textatistic) (2023.7.22)\n"
          ]
        }
      ],
      "source": [
        "pip install textatistic"
      ]
    },
    {
      "cell_type": "code",
      "source": [
        "import json\n",
        "import pandas as pd\n",
        "from textatistic import Textatistic\n",
        "from pathlib import Path\n",
        "import re"
      ],
      "metadata": {
        "id": "p3ngPENUqVCR"
      },
      "execution_count": 2,
      "outputs": []
    },
    {
      "cell_type": "code",
      "source": [
        "with open(\"/content/doqa-cooking-dev-v2.1.json\", 'r') as file:\n",
        "    # Load the JSON data\n",
        "    json_data = json.load(file)"
      ],
      "metadata": {
        "id": "rldkDLxVrT_w"
      },
      "execution_count": 3,
      "outputs": []
    },
    {
      "cell_type": "code",
      "source": [
        "# Access the 'data' key\n",
        "data = json_data['data']"
      ],
      "metadata": {
        "id": "-zueayJxrUHe"
      },
      "execution_count": 4,
      "outputs": []
    },
    {
      "cell_type": "code",
      "source": [
        "# Create lists to store the extracted data\n",
        "titles = []\n",
        "backgrounds = []\n",
        "all_paragraphs = []\n",
        "for entry in data:\n",
        "   title = entry[\"title\"]\n",
        "   background = entry[\"background\"]\n",
        "   paragraphs = [p[\"context\"] for p in entry[\"paragraphs\"]]\n",
        "   # Store each variable in separate lists\n",
        "   titles.append(title)\n",
        "   backgrounds.append(background)\n",
        "   all_paragraphs.append(paragraphs)\n",
        "#three separate lists: titles, backgrounds, and all_paragraphs\n",
        "title_df = pd.DataFrame({'Title': titles})\n",
        "background_df = pd.DataFrame({'Background': backgrounds})\n",
        "paragraphs_df = pd.DataFrame({'Paragraphs': all_paragraphs})"
      ],
      "metadata": {
        "id": "kdaquncMrUQQ"
      },
      "execution_count": 5,
      "outputs": []
    },
    {
      "cell_type": "code",
      "source": [
        "title_df = title_df['Title'].tolist()\n",
        "background_df = background_df['Background'].tolist()\n",
        "paragraphs_df = paragraphs_df['Paragraphs'].tolist()"
      ],
      "metadata": {
        "id": "pNnp1GfHrUeB"
      },
      "execution_count": 6,
      "outputs": []
    },
    {
      "cell_type": "code",
      "source": [
        "def clean_string(text): # Cleaning\n",
        "    \"\"\"re.sub(pattern, repl, string).\n",
        "    Returns the string obtained by replacing the leftmost\n",
        "    non-overlapping occurrences of pattern in string by the\n",
        "    replacement thus removing any urls\n",
        "    \"\"\"\n",
        "    return \" \".join(re.sub(\"([^0-9A-Za-z \\t])|(\\w+:\\/\\/\\S+)\", \"\", str(text)).split())"
      ],
      "metadata": {
        "id": "OQD7bSMvtWqg"
      },
      "execution_count": 7,
      "outputs": []
    },
    {
      "cell_type": "code",
      "source": [
        "TextOnlyTitle = [clean_string(Title) for Title in title_df]\n",
        "TextOnlyBackground = [clean_string(Background) for Background in background_df]\n",
        "TextOnlyParagraphs = [clean_string(Paragraphs) for Paragraphs in paragraphs_df]"
      ],
      "metadata": {
        "id": "phC8b5pstWw9"
      },
      "execution_count": 8,
      "outputs": []
    },
    {
      "cell_type": "code",
      "source": [
        "TextOnlyTitle[:2]\n"
      ],
      "metadata": {
        "colab": {
          "base_uri": "https://localhost:8080/"
        },
        "id": "amUDICIuA5g-",
        "outputId": "197315a1-eb9a-4c9e-c2f1-b59da4aab3a4"
      },
      "execution_count": 9,
      "outputs": [
        {
          "output_type": "execute_result",
          "data": {
            "text/plain": [
              "['What to add to the batter of the cake to avoid hardening when the gluten formation cant be avoided',\n",
              " 'Is bacon fat supposed to congeal at room temperature']"
            ]
          },
          "metadata": {},
          "execution_count": 9
        }
      ]
    },
    {
      "cell_type": "code",
      "source": [
        "TextOnlyBackground[:2]"
      ],
      "metadata": {
        "colab": {
          "base_uri": "https://localhost:8080/"
        },
        "id": "epmTfAWsBXOR",
        "outputId": "0b8060be-b467-4966-904b-bea0b64144be"
      },
      "execution_count": 10,
      "outputs": [
        {
          "output_type": "execute_result",
          "data": {
            "text/plain": [
              "['So over mixing batter forms gluten which in turn hardens the cake FineThe problem is that I dont want lumps in the cakes and the above statement prevents me from fine mixing the batter So is there something which I can add to the batter more milk to make the outcome soft despite Gluten',\n",
              " 'My grandma told me its a good idea to save the bacon drippings in a sealable container to cook with later I remember when I used to watch her cook with it it was always solid I have started saving the fat from my bacon only the bottom of the can is the only part that ever congeals The top always seems sort of semiliquid Is that ok When cooking with it what part should I use and what is the difference between solid and merely viscous bacon fat']"
            ]
          },
          "metadata": {},
          "execution_count": 10
        }
      ]
    },
    {
      "cell_type": "code",
      "source": [
        "TextOnlyParagraphs[:2]"
      ],
      "metadata": {
        "colab": {
          "base_uri": "https://localhost:8080/"
        },
        "id": "RPI9RhE4BXd3",
        "outputId": "44b19677-57f6-4ddd-edd1-da1d0e95bad6"
      },
      "execution_count": 11,
      "outputs": [
        {
          "output_type": "execute_result",
          "data": {
            "text/plain": [
              "['Milk wont help you its mostly water and gluten develops from flour more accurately specific proteins in flour and waterThe way to reduce gluten development is to incorporate more fat into the batter Lipids are hydrophobic and will prevent further hydration of the gluteninUsing a lowerprotein flour will also help If youre not already using cake flour the reason its called cake flour is because of the lower protein contentThat being said have you actually tried leaving the batter coarse Just because the batter is lumpy does not mean that the cake will have big lumps The entire mixture is wet so unless you leave huge lumps of dry flour in the batter you wont end up with a lumpy cake Theres a difference between dont overmix and dont mix youre supposed to mix enough to incorporate just dont try homogenize it CANNOTANSWER',\n",
              " 'To answer what I think is the question you put all of the grease into a container and theres a residue at the top bacon drippings are not 100 fat There are also solid pieces of bacon in there and other impurities from the curing processWhen rendering bacon fat you should line the container with a paper towel first or cheesecloth if you have it Pour the bacon drippings onto the paper towel and the fat will drain out the bottom the solids will be left behind and you can dispose of them Youll be left with mostly pure fatThe rendered fat will most definitely congeal the vessel once cooled should contain only a solid offwhite substance CANNOTANSWER']"
            ]
          },
          "metadata": {},
          "execution_count": 11
        }
      ]
    },
    {
      "cell_type": "markdown",
      "source": [
        "Title"
      ],
      "metadata": {
        "id": "jbVzGZ7fuMSp"
      }
    },
    {
      "cell_type": "code",
      "source": [
        "a_list = TextOnlyTitle"
      ],
      "metadata": {
        "id": "Wp_DkEfDtW8z"
      },
      "execution_count": 12,
      "outputs": []
    },
    {
      "cell_type": "code",
      "source": [
        "new_list_a = [x for x in a_list if len(x) < 1000]"
      ],
      "metadata": {
        "id": "li24UxDctXDr"
      },
      "execution_count": 13,
      "outputs": []
    },
    {
      "cell_type": "code",
      "source": [
        "textfile_a = open(\"fileA_file.txt\", \"w\")"
      ],
      "metadata": {
        "id": "3xEGAFb0u_Vs"
      },
      "execution_count": 14,
      "outputs": []
    },
    {
      "cell_type": "code",
      "source": [
        "for element in new_list_a:\n",
        "    textfile_a.write(element + \"\\n\")"
      ],
      "metadata": {
        "id": "UK60BXnWu_dk"
      },
      "execution_count": 15,
      "outputs": []
    },
    {
      "cell_type": "code",
      "source": [
        "textfile_a.close()"
      ],
      "metadata": {
        "id": "QK3p7XScu_k_"
      },
      "execution_count": 16,
      "outputs": []
    },
    {
      "cell_type": "code",
      "source": [
        "textA = Path('fileA_file.txt').read_text()"
      ],
      "metadata": {
        "id": "gwdUdKEZvVoq"
      },
      "execution_count": 17,
      "outputs": []
    },
    {
      "cell_type": "code",
      "source": [
        "a_string = textA"
      ],
      "metadata": {
        "id": "_h8hCKmyv58o"
      },
      "execution_count": 18,
      "outputs": []
    },
    {
      "cell_type": "code",
      "source": [
        "Str_EndFixA = a_string.replace(\"\\n\", \".\")"
      ],
      "metadata": {
        "id": "uie7n3F_v6DF"
      },
      "execution_count": 19,
      "outputs": []
    },
    {
      "cell_type": "code",
      "source": [
        "readability = Textatistic(Str_EndFixA)"
      ],
      "metadata": {
        "id": "oZ1aXyeaztaK"
      },
      "execution_count": 20,
      "outputs": []
    },
    {
      "cell_type": "code",
      "source": [
        "%precision 3"
      ],
      "metadata": {
        "colab": {
          "base_uri": "https://localhost:8080/",
          "height": 35
        },
        "id": "8rXlEocByO3_",
        "outputId": "1958a60c-9b8b-4107-f13c-df4225527114"
      },
      "execution_count": 21,
      "outputs": [
        {
          "output_type": "execute_result",
          "data": {
            "text/plain": [
              "'%.3f'"
            ],
            "application/vnd.google.colaboratory.intrinsic+json": {
              "type": "string"
            }
          },
          "metadata": {},
          "execution_count": 21
        }
      ]
    },
    {
      "cell_type": "code",
      "source": [
        "readability.dict()"
      ],
      "metadata": {
        "colab": {
          "base_uri": "https://localhost:8080/"
        },
        "id": "iu9jhJ_mvWGu",
        "outputId": "751da929-fe27-4f24-aefa-237420d0ece9"
      },
      "execution_count": 22,
      "outputs": [
        {
          "output_type": "execute_result",
          "data": {
            "text/plain": [
              "{'char_count': 7914,\n",
              " 'word_count': 1480,\n",
              " 'sent_count': 198,\n",
              " 'sybl_count': 2070,\n",
              " 'notdalechall_count': 447,\n",
              " 'polysyblword_count': 123,\n",
              " 'flesch_score': 80.922,\n",
              " 'fleschkincaid_score': 3.829,\n",
              " 'gunningfog_score': 6.314,\n",
              " 'smog_score': 7.632,\n",
              " 'dalechall_score': 8.776}"
            ]
          },
          "metadata": {},
          "execution_count": 22
        }
      ]
    },
    {
      "cell_type": "markdown",
      "source": [
        "For Background"
      ],
      "metadata": {
        "id": "0ma73ss9FbYR"
      }
    },
    {
      "cell_type": "code",
      "source": [
        "b_list = TextOnlyBackground"
      ],
      "metadata": {
        "id": "k2qOT4UIwZLY"
      },
      "execution_count": 23,
      "outputs": []
    },
    {
      "cell_type": "code",
      "source": [
        "new_list_b = [x for x in b_list if len(x) < 1000]"
      ],
      "metadata": {
        "id": "EqTUqfmpFfxZ"
      },
      "execution_count": 24,
      "outputs": []
    },
    {
      "cell_type": "code",
      "source": [
        "textfile_b = open(\"fileB_file.txt\", \"w\")"
      ],
      "metadata": {
        "id": "w90OA-PHFf21"
      },
      "execution_count": 25,
      "outputs": []
    },
    {
      "cell_type": "code",
      "source": [
        "for element in new_list_b:\n",
        "    textfile_b.write(element + \"\\n\")"
      ],
      "metadata": {
        "id": "BvRB3apBFf-Z"
      },
      "execution_count": 26,
      "outputs": []
    },
    {
      "cell_type": "code",
      "source": [
        "textfile_b.close()"
      ],
      "metadata": {
        "id": "PEG7rZFBFgDU"
      },
      "execution_count": 27,
      "outputs": []
    },
    {
      "cell_type": "code",
      "source": [
        "textB = Path('fileB_file.txt').read_text()"
      ],
      "metadata": {
        "id": "kasSL4BSFgJp"
      },
      "execution_count": 28,
      "outputs": []
    },
    {
      "cell_type": "code",
      "source": [
        "b_string = textB"
      ],
      "metadata": {
        "id": "vIMbbKmHFgQQ"
      },
      "execution_count": 29,
      "outputs": []
    },
    {
      "cell_type": "code",
      "source": [
        "Str_EndFixB = b_string.replace(\"\\n\", \".\")"
      ],
      "metadata": {
        "id": "qaeYBCXvFgWa"
      },
      "execution_count": 30,
      "outputs": []
    },
    {
      "cell_type": "code",
      "source": [
        "readability = Textatistic(Str_EndFixB)"
      ],
      "metadata": {
        "id": "pwyjlnrfwZRk"
      },
      "execution_count": 31,
      "outputs": []
    },
    {
      "cell_type": "code",
      "source": [
        "%precision 3"
      ],
      "metadata": {
        "colab": {
          "base_uri": "https://localhost:8080/",
          "height": 35
        },
        "id": "tblmM_8iGF4w",
        "outputId": "34f64548-0ecd-4670-f311-74b52fa6f845"
      },
      "execution_count": 32,
      "outputs": [
        {
          "output_type": "execute_result",
          "data": {
            "text/plain": [
              "'%.3f'"
            ],
            "application/vnd.google.colaboratory.intrinsic+json": {
              "type": "string"
            }
          },
          "metadata": {},
          "execution_count": 32
        }
      ]
    },
    {
      "cell_type": "code",
      "source": [
        "readability.dict()"
      ],
      "metadata": {
        "colab": {
          "base_uri": "https://localhost:8080/"
        },
        "id": "YzbyHzy5GGAy",
        "outputId": "e343a7fe-90e2-4f64-ac40-6d88edb28c9f"
      },
      "execution_count": 33,
      "outputs": [
        {
          "output_type": "execute_result",
          "data": {
            "text/plain": [
              "{'char_count': 61253,\n",
              " 'word_count': 13930,\n",
              " 'sent_count': 179,\n",
              " 'sybl_count': 17688,\n",
              " 'notdalechall_count': 2685,\n",
              " 'polysyblword_count': 735,\n",
              " 'flesch_score': 20.423,\n",
              " 'fleschkincaid_score': 29.744,\n",
              " 'gunningfog_score': 33.239,\n",
              " 'smog_score': 14.705,\n",
              " 'dalechall_score': 10.540}"
            ]
          },
          "metadata": {},
          "execution_count": 33
        }
      ]
    },
    {
      "cell_type": "markdown",
      "source": [
        "For Paragraph"
      ],
      "metadata": {
        "id": "3sEdXDfGG9hN"
      }
    },
    {
      "cell_type": "code",
      "source": [
        "p_list = TextOnlyParagraphs"
      ],
      "metadata": {
        "id": "MHzSDOdyGGIs"
      },
      "execution_count": 34,
      "outputs": []
    },
    {
      "cell_type": "code",
      "source": [
        "new_list_p = [x for x in p_list if len(x) < 1000]"
      ],
      "metadata": {
        "id": "R7-1V9pXHBuK"
      },
      "execution_count": 35,
      "outputs": []
    },
    {
      "cell_type": "code",
      "source": [
        "textfile_p = open(\"fileP_file.txt\", \"w\")"
      ],
      "metadata": {
        "id": "8HDqo9qAHB19"
      },
      "execution_count": 36,
      "outputs": []
    },
    {
      "cell_type": "code",
      "source": [
        "for element in new_list_p:\n",
        "    textfile_p.write(element + \"\\n\")"
      ],
      "metadata": {
        "id": "SPSXJGPWHB9x"
      },
      "execution_count": 37,
      "outputs": []
    },
    {
      "cell_type": "code",
      "source": [
        "textfile_p.close()"
      ],
      "metadata": {
        "id": "JasCqrnBHCFn"
      },
      "execution_count": 38,
      "outputs": []
    },
    {
      "cell_type": "code",
      "source": [
        "textP = Path('fileP_file.txt').read_text()"
      ],
      "metadata": {
        "id": "MhpyICtNHCOs"
      },
      "execution_count": 39,
      "outputs": []
    },
    {
      "cell_type": "code",
      "source": [
        "p_string = textP"
      ],
      "metadata": {
        "id": "n1kdP-o6HevE"
      },
      "execution_count": 40,
      "outputs": []
    },
    {
      "cell_type": "code",
      "source": [
        "Str_EndFixP = p_string.replace(\"\\n\", \".\")"
      ],
      "metadata": {
        "id": "tAbedSUlHe10"
      },
      "execution_count": 41,
      "outputs": []
    },
    {
      "cell_type": "code",
      "source": [
        "readability = Textatistic(Str_EndFixP)"
      ],
      "metadata": {
        "id": "kv1PZjx7JKDG"
      },
      "execution_count": 42,
      "outputs": []
    },
    {
      "cell_type": "code",
      "source": [
        "%precision 3"
      ],
      "metadata": {
        "colab": {
          "base_uri": "https://localhost:8080/",
          "height": 35
        },
        "id": "0D6toQUeHe8Q",
        "outputId": "cc3f5eda-bdcb-4c97-baa8-6ec6ee4da397"
      },
      "execution_count": 43,
      "outputs": [
        {
          "output_type": "execute_result",
          "data": {
            "text/plain": [
              "'%.3f'"
            ],
            "application/vnd.google.colaboratory.intrinsic+json": {
              "type": "string"
            }
          },
          "metadata": {},
          "execution_count": 43
        }
      ]
    },
    {
      "cell_type": "code",
      "source": [
        "readability.dict()"
      ],
      "metadata": {
        "colab": {
          "base_uri": "https://localhost:8080/"
        },
        "id": "gWBrkuejHfCB",
        "outputId": "547586ed-065b-4368-d6da-8f5e9b37dd29"
      },
      "execution_count": 44,
      "outputs": [
        {
          "output_type": "execute_result",
          "data": {
            "text/plain": [
              "{'char_count': 75775,\n",
              " 'word_count': 16675,\n",
              " 'sent_count': 162,\n",
              " 'sybl_count': 21245,\n",
              " 'notdalechall_count': 3465,\n",
              " 'polysyblword_count': 922,\n",
              " 'flesch_score': -5.427,\n",
              " 'fleschkincaid_score': 39.587,\n",
              " 'gunningfog_score': 43.385,\n",
              " 'smog_score': 16.758,\n",
              " 'dalechall_score': 12.023}"
            ]
          },
          "metadata": {},
          "execution_count": 44
        }
      ]
    },
    {
      "cell_type": "code",
      "source": [],
      "metadata": {
        "id": "pfP_OSE_HfHn"
      },
      "execution_count": 44,
      "outputs": []
    },
    {
      "cell_type": "code",
      "source": [],
      "metadata": {
        "id": "noNCLXSHLCSS"
      },
      "execution_count": null,
      "outputs": []
    },
    {
      "cell_type": "code",
      "source": [],
      "metadata": {
        "id": "bHhPOAIAHfNQ"
      },
      "execution_count": 44,
      "outputs": []
    },
    {
      "cell_type": "code",
      "source": [],
      "metadata": {
        "id": "CfcR1gAkvG7Z"
      },
      "execution_count": 44,
      "outputs": []
    }
  ]
}