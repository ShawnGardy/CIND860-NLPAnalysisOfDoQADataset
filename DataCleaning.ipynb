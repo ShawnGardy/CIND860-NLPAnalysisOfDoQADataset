{
  "nbformat": 4,
  "nbformat_minor": 0,
  "metadata": {
    "colab": {
      "provenance": []
    },
    "kernelspec": {
      "name": "python3",
      "display_name": "Python 3"
    },
    "language_info": {
      "name": "python"
    }
  },
  "cells": [
    {
      "cell_type": "code",
      "execution_count": 1,
      "metadata": {
        "id": "vJMiD_rN0e1k"
      },
      "outputs": [],
      "source": [
        "import json\n",
        "import pandas as pd\n",
        "from pathlib import Path\n",
        "import re\n",
        "import matplotlib.pyplot as plt\n",
        "import itertools # mote up later\n",
        "from nltk import bigrams, ngrams, trigrams\n",
        "import collections # must move up\n",
        "import nltk\n",
        "from nltk.corpus import stopwords"
      ]
    },
    {
      "cell_type": "code",
      "source": [
        "import warnings\n",
        "warnings.filterwarnings(\"ignore\")"
      ],
      "metadata": {
        "id": "8abMr_zZ0fWv"
      },
      "execution_count": 2,
      "outputs": []
    },
    {
      "cell_type": "code",
      "source": [
        "with open(\"/content/doqa-cooking-test-v2.1.json\", 'r') as file:\n",
        "    json_data = json.load(file)"
      ],
      "metadata": {
        "id": "YpZFt7ad0_7z"
      },
      "execution_count": 3,
      "outputs": []
    },
    {
      "cell_type": "code",
      "source": [
        "# Access the 'data' key\n",
        "data = json_data['data']"
      ],
      "metadata": {
        "id": "HLBswSdG0fbb"
      },
      "execution_count": 4,
      "outputs": []
    },
    {
      "cell_type": "markdown",
      "source": [],
      "metadata": {
        "id": "OUna-I4bGVfe"
      }
    },
    {
      "cell_type": "code",
      "source": [
        "# Create lists to store the extracted data\n",
        "titles = []\n",
        "backgrounds = []\n",
        "all_paragraphs = []\n",
        "for entry in data:\n",
        "   title = entry[\"title\"]\n",
        "   background = entry[\"background\"]\n",
        "   paragraphs = [p[\"context\"] for p in entry[\"paragraphs\"]]\n",
        "   # Store each variable in separate lists\n",
        "   titles.append(title)\n",
        "   backgrounds.append(background)\n",
        "   all_paragraphs.append(paragraphs)\n",
        "# Now you have three separate lists: titles, backgrounds, and all_paragraphs\n",
        "# Perform NLP analysis or manipulate the data as needed\n",
        "# For example, you can convert them into data frames\n",
        "title_df = pd.DataFrame({'Title': titles})\n",
        "background_df = pd.DataFrame({'Background': backgrounds})\n",
        "paragraphs_df = pd.DataFrame({'Paragraphs': all_paragraphs})\n",
        "# Now you have three separate data frames for each variable\n",
        "# You can access, analyze, and manipulate the data in the data frames as needed\n",
        "\n",
        "#This code will create three separate lists ('titles', 'backgrounds', and 'all_paragraphs') to store the extracted data, and you can perform NLP analysis or further manipulation on these lists. Additionally, the code demonstrates how to convert these lists into separate data frames if you prefer to work with data frames.\n"
      ],
      "metadata": {
        "id": "AIoPHRWC0fgB"
      },
      "execution_count": 5,
      "outputs": []
    },
    {
      "cell_type": "code",
      "source": [
        "print(title_df)"
      ],
      "metadata": {
        "colab": {
          "base_uri": "https://localhost:8080/",
          "height": 0
        },
        "id": "OfVK8Yja0fk7",
        "outputId": "49624f9c-182c-4e78-d640-c62fbbbff305"
      },
      "execution_count": 6,
      "outputs": [
        {
          "output_type": "stream",
          "name": "stdout",
          "text": [
            "                                                 Title\n",
            "0                             Canning chili with beans\n",
            "1                            Is rare duck breast safe?\n",
            "2    Why would I prefer carbon steel (rust prone) k...\n",
            "3         How do you prepare fresh fennel for cooking?\n",
            "4                            Cracking open a pistachio\n",
            "..                                                 ...\n",
            "395                  First onion or first minced meat?\n",
            "396       Metal dust/shavings in food from knife wear?\n",
            "397   How to make corn nuts from fresh corn on the cob\n",
            "398  Emergency Coffee via Chocolate Covered Coffee ...\n",
            "399  How to gauge orzo's change in volume from dry ...\n",
            "\n",
            "[400 rows x 1 columns]\n"
          ]
        }
      ]
    },
    {
      "cell_type": "markdown",
      "source": [
        "Begin Cleaning"
      ],
      "metadata": {
        "id": "yDCgO_NL3ukW"
      }
    },
    {
      "cell_type": "code",
      "source": [
        "title_df_list = title_df['Title'].tolist()"
      ],
      "metadata": {
        "id": "etCtnl1O0fso"
      },
      "execution_count": 7,
      "outputs": []
    },
    {
      "cell_type": "code",
      "source": [
        "title_df_list[:3]"
      ],
      "metadata": {
        "colab": {
          "base_uri": "https://localhost:8080/",
          "height": 0
        },
        "id": "b21Fv_Q54BBE",
        "outputId": "27e81d1f-2676-4d26-a89c-12bd4b190350"
      },
      "execution_count": 8,
      "outputs": [
        {
          "output_type": "execute_result",
          "data": {
            "text/plain": [
              "['Canning chili with beans',\n",
              " 'Is rare duck breast safe?',\n",
              " 'Why would I prefer carbon steel (rust prone) kitchen knife?']"
            ]
          },
          "metadata": {},
          "execution_count": 8
        }
      ]
    },
    {
      "cell_type": "code",
      "source": [
        "def clean_string(text): # can be Title, Background, Paragraphs\n",
        "    \"\"\"re.sub(pattern, repl, string).\n",
        "    Returns the string obtained by replacing the leftmost\n",
        "    non-overlapping occurrences of pattern in string by the\n",
        "    replacement thus removing any urls\n",
        "    \"\"\"\n",
        "    return \" \".join(re.sub(\"([^0-9A-Za-z \\t])|(\\w+:\\/\\/\\S+)\", \"\", str(text)).split())"
      ],
      "metadata": {
        "id": "fbG-Qt_X4BIB"
      },
      "execution_count": 9,
      "outputs": []
    },
    {
      "cell_type": "code",
      "source": [
        "TextOnlyTitle = [clean_string(Title) for Title in title_df_list]#can be Title, Background, Paragraphs"
      ],
      "metadata": {
        "id": "9EzmNLw-4BPQ"
      },
      "execution_count": 10,
      "outputs": []
    },
    {
      "cell_type": "code",
      "source": [
        "TextOnlyTitle[:1] # Can be Title, Background, Paragraphs"
      ],
      "metadata": {
        "colab": {
          "base_uri": "https://localhost:8080/",
          "height": 0
        },
        "id": "qh4ZpJF64BWY",
        "outputId": "97d10a68-465f-4e75-8999-72f6f3ab1116"
      },
      "execution_count": 11,
      "outputs": [
        {
          "output_type": "execute_result",
          "data": {
            "text/plain": [
              "['Canning chili with beans']"
            ]
          },
          "metadata": {},
          "execution_count": 11
        }
      ]
    },
    {
      "cell_type": "code",
      "source": [
        "ListlowercasewordsTitle = [Title.lower().split() for Title in TextOnlyTitle]"
      ],
      "metadata": {
        "id": "jztQj0494Bc2"
      },
      "execution_count": 12,
      "outputs": []
    },
    {
      "cell_type": "code",
      "source": [
        "ListlowercasewordsTitle[:1]"
      ],
      "metadata": {
        "colab": {
          "base_uri": "https://localhost:8080/",
          "height": 0
        },
        "id": "xK6XiPyz0fw9",
        "outputId": "49cf7e5f-fab0-4173-b44f-949d0871f169"
      },
      "execution_count": 13,
      "outputs": [
        {
          "output_type": "execute_result",
          "data": {
            "text/plain": [
              "[['canning', 'chili', 'with', 'beans']]"
            ]
          },
          "metadata": {},
          "execution_count": 13
        }
      ]
    },
    {
      "cell_type": "code",
      "source": [
        "data = ListlowercasewordsTitle[:3]\n",
        "for x in data:\n",
        "    print(x, end=' ')"
      ],
      "metadata": {
        "colab": {
          "base_uri": "https://localhost:8080/",
          "height": 0
        },
        "id": "X9OqjNLT5qfc",
        "outputId": "cb2ef6c2-9f7d-4d05-a3fe-7a08aa73f4e8"
      },
      "execution_count": 14,
      "outputs": [
        {
          "output_type": "stream",
          "name": "stdout",
          "text": [
            "['canning', 'chili', 'with', 'beans'] ['is', 'rare', 'duck', 'breast', 'safe'] ['why', 'would', 'i', 'prefer', 'carbon', 'steel', 'rust', 'prone', 'kitchen', 'knife'] "
          ]
        }
      ]
    },
    {
      "cell_type": "code",
      "source": [
        "TextOnlyTitle = list(itertools.chain(*ListlowercasewordsTitle))"
      ],
      "metadata": {
        "id": "1_AVREbl5qoW"
      },
      "execution_count": 15,
      "outputs": []
    },
    {
      "cell_type": "code",
      "source": [
        "TextOnlyTitle[:2]"
      ],
      "metadata": {
        "colab": {
          "base_uri": "https://localhost:8080/",
          "height": 0
        },
        "id": "dde06-zq5qwD",
        "outputId": "2407ade5-41ff-4cf4-abf4-120dcfa159fd"
      },
      "execution_count": 16,
      "outputs": [
        {
          "output_type": "execute_result",
          "data": {
            "text/plain": [
              "['canning', 'chili']"
            ]
          },
          "metadata": {},
          "execution_count": 16
        }
      ]
    },
    {
      "cell_type": "code",
      "source": [
        "len(TextOnlyTitle)"
      ],
      "metadata": {
        "colab": {
          "base_uri": "https://localhost:8080/",
          "height": 0
        },
        "id": "R7sH2kBcMqAu",
        "outputId": "0db8935b-60bb-4349-dc81-7a1d2e92f336"
      },
      "execution_count": 17,
      "outputs": [
        {
          "output_type": "execute_result",
          "data": {
            "text/plain": [
              "3451"
            ]
          },
          "metadata": {},
          "execution_count": 17
        }
      ]
    },
    {
      "cell_type": "code",
      "source": [
        "UniqueWordsTitle = set(TextOnlyTitle)"
      ],
      "metadata": {
        "id": "L3HolBGrMqHy"
      },
      "execution_count": 18,
      "outputs": []
    },
    {
      "cell_type": "code",
      "source": [
        "len(UniqueWordsTitle) #15816/101330=15.6% Unique%=UniqueWords/TextOnlyTweet"
      ],
      "metadata": {
        "colab": {
          "base_uri": "https://localhost:8080/",
          "height": 0
        },
        "id": "EP-mPjKuMqPU",
        "outputId": "9cb097d5-79a7-407d-961d-b6f990fe3a9a"
      },
      "execution_count": 19,
      "outputs": [
        {
          "output_type": "execute_result",
          "data": {
            "text/plain": [
              "1148"
            ]
          },
          "metadata": {},
          "execution_count": 19
        }
      ]
    },
    {
      "cell_type": "code",
      "source": [
        "CountTextOnlyTitle = collections.Counter(TextOnlyTitle)"
      ],
      "metadata": {
        "id": "hD4gXTFiMqVg"
      },
      "execution_count": 20,
      "outputs": []
    },
    {
      "cell_type": "code",
      "source": [
        "CountTextOnlyTitle.most_common(10)"
      ],
      "metadata": {
        "colab": {
          "base_uri": "https://localhost:8080/",
          "height": 0
        },
        "id": "BG24USrfMqc0",
        "outputId": "e47fc2e5-cb56-4983-8d2d-bfa9ec3fb564"
      },
      "execution_count": 21,
      "outputs": [
        {
          "output_type": "execute_result",
          "data": {
            "text/plain": [
              "[('to', 110),\n",
              " ('how', 105),\n",
              " ('a', 90),\n",
              " ('the', 89),\n",
              " ('is', 79),\n",
              " ('i', 79),\n",
              " ('in', 72),\n",
              " ('can', 60),\n",
              " ('for', 59),\n",
              " ('of', 54)]"
            ]
          },
          "metadata": {},
          "execution_count": 21
        }
      ]
    },
    {
      "cell_type": "code",
      "source": [
        "CleanTitle = pd.DataFrame(CountTextOnlyTitle.most_common(10),\n",
        "                        columns=['words', 'count'])"
      ],
      "metadata": {
        "id": "511SfxE7NZUT"
      },
      "execution_count": 22,
      "outputs": []
    },
    {
      "cell_type": "code",
      "source": [
        "CleanTitle"
      ],
      "metadata": {
        "colab": {
          "base_uri": "https://localhost:8080/",
          "height": 363
        },
        "id": "yzakZfcZNi36",
        "outputId": "1315a0e3-c454-4988-d054-35cb6959cb1f"
      },
      "execution_count": 23,
      "outputs": [
        {
          "output_type": "execute_result",
          "data": {
            "text/plain": [
              "  words  count\n",
              "0    to    110\n",
              "1   how    105\n",
              "2     a     90\n",
              "3   the     89\n",
              "4    is     79\n",
              "5     i     79\n",
              "6    in     72\n",
              "7   can     60\n",
              "8   for     59\n",
              "9    of     54"
            ],
            "text/html": [
              "\n",
              "  <div id=\"df-3b358abb-d4de-4527-894c-e89ada03151d\" class=\"colab-df-container\">\n",
              "    <div>\n",
              "<style scoped>\n",
              "    .dataframe tbody tr th:only-of-type {\n",
              "        vertical-align: middle;\n",
              "    }\n",
              "\n",
              "    .dataframe tbody tr th {\n",
              "        vertical-align: top;\n",
              "    }\n",
              "\n",
              "    .dataframe thead th {\n",
              "        text-align: right;\n",
              "    }\n",
              "</style>\n",
              "<table border=\"1\" class=\"dataframe\">\n",
              "  <thead>\n",
              "    <tr style=\"text-align: right;\">\n",
              "      <th></th>\n",
              "      <th>words</th>\n",
              "      <th>count</th>\n",
              "    </tr>\n",
              "  </thead>\n",
              "  <tbody>\n",
              "    <tr>\n",
              "      <th>0</th>\n",
              "      <td>to</td>\n",
              "      <td>110</td>\n",
              "    </tr>\n",
              "    <tr>\n",
              "      <th>1</th>\n",
              "      <td>how</td>\n",
              "      <td>105</td>\n",
              "    </tr>\n",
              "    <tr>\n",
              "      <th>2</th>\n",
              "      <td>a</td>\n",
              "      <td>90</td>\n",
              "    </tr>\n",
              "    <tr>\n",
              "      <th>3</th>\n",
              "      <td>the</td>\n",
              "      <td>89</td>\n",
              "    </tr>\n",
              "    <tr>\n",
              "      <th>4</th>\n",
              "      <td>is</td>\n",
              "      <td>79</td>\n",
              "    </tr>\n",
              "    <tr>\n",
              "      <th>5</th>\n",
              "      <td>i</td>\n",
              "      <td>79</td>\n",
              "    </tr>\n",
              "    <tr>\n",
              "      <th>6</th>\n",
              "      <td>in</td>\n",
              "      <td>72</td>\n",
              "    </tr>\n",
              "    <tr>\n",
              "      <th>7</th>\n",
              "      <td>can</td>\n",
              "      <td>60</td>\n",
              "    </tr>\n",
              "    <tr>\n",
              "      <th>8</th>\n",
              "      <td>for</td>\n",
              "      <td>59</td>\n",
              "    </tr>\n",
              "    <tr>\n",
              "      <th>9</th>\n",
              "      <td>of</td>\n",
              "      <td>54</td>\n",
              "    </tr>\n",
              "  </tbody>\n",
              "</table>\n",
              "</div>\n",
              "    <div class=\"colab-df-buttons\">\n",
              "\n",
              "  <div class=\"colab-df-container\">\n",
              "    <button class=\"colab-df-convert\" onclick=\"convertToInteractive('df-3b358abb-d4de-4527-894c-e89ada03151d')\"\n",
              "            title=\"Convert this dataframe to an interactive table.\"\n",
              "            style=\"display:none;\">\n",
              "\n",
              "  <svg xmlns=\"http://www.w3.org/2000/svg\" height=\"24px\" viewBox=\"0 -960 960 960\">\n",
              "    <path d=\"M120-120v-720h720v720H120Zm60-500h600v-160H180v160Zm220 220h160v-160H400v160Zm0 220h160v-160H400v160ZM180-400h160v-160H180v160Zm440 0h160v-160H620v160ZM180-180h160v-160H180v160Zm440 0h160v-160H620v160Z\"/>\n",
              "  </svg>\n",
              "    </button>\n",
              "\n",
              "  <style>\n",
              "    .colab-df-container {\n",
              "      display:flex;\n",
              "      gap: 12px;\n",
              "    }\n",
              "\n",
              "    .colab-df-convert {\n",
              "      background-color: #E8F0FE;\n",
              "      border: none;\n",
              "      border-radius: 50%;\n",
              "      cursor: pointer;\n",
              "      display: none;\n",
              "      fill: #1967D2;\n",
              "      height: 32px;\n",
              "      padding: 0 0 0 0;\n",
              "      width: 32px;\n",
              "    }\n",
              "\n",
              "    .colab-df-convert:hover {\n",
              "      background-color: #E2EBFA;\n",
              "      box-shadow: 0px 1px 2px rgba(60, 64, 67, 0.3), 0px 1px 3px 1px rgba(60, 64, 67, 0.15);\n",
              "      fill: #174EA6;\n",
              "    }\n",
              "\n",
              "    .colab-df-buttons div {\n",
              "      margin-bottom: 4px;\n",
              "    }\n",
              "\n",
              "    [theme=dark] .colab-df-convert {\n",
              "      background-color: #3B4455;\n",
              "      fill: #D2E3FC;\n",
              "    }\n",
              "\n",
              "    [theme=dark] .colab-df-convert:hover {\n",
              "      background-color: #434B5C;\n",
              "      box-shadow: 0px 1px 3px 1px rgba(0, 0, 0, 0.15);\n",
              "      filter: drop-shadow(0px 1px 2px rgba(0, 0, 0, 0.3));\n",
              "      fill: #FFFFFF;\n",
              "    }\n",
              "  </style>\n",
              "\n",
              "    <script>\n",
              "      const buttonEl =\n",
              "        document.querySelector('#df-3b358abb-d4de-4527-894c-e89ada03151d button.colab-df-convert');\n",
              "      buttonEl.style.display =\n",
              "        google.colab.kernel.accessAllowed ? 'block' : 'none';\n",
              "\n",
              "      async function convertToInteractive(key) {\n",
              "        const element = document.querySelector('#df-3b358abb-d4de-4527-894c-e89ada03151d');\n",
              "        const dataTable =\n",
              "          await google.colab.kernel.invokeFunction('convertToInteractive',\n",
              "                                                    [key], {});\n",
              "        if (!dataTable) return;\n",
              "\n",
              "        const docLinkHtml = 'Like what you see? Visit the ' +\n",
              "          '<a target=\"_blank\" href=https://colab.research.google.com/notebooks/data_table.ipynb>data table notebook</a>'\n",
              "          + ' to learn more about interactive tables.';\n",
              "        element.innerHTML = '';\n",
              "        dataTable['output_type'] = 'display_data';\n",
              "        await google.colab.output.renderOutput(dataTable, element);\n",
              "        const docLink = document.createElement('div');\n",
              "        docLink.innerHTML = docLinkHtml;\n",
              "        element.appendChild(docLink);\n",
              "      }\n",
              "    </script>\n",
              "  </div>\n",
              "\n",
              "\n",
              "<div id=\"df-61de981c-d4ee-4bc9-baed-2d34082702e6\">\n",
              "  <button class=\"colab-df-quickchart\" onclick=\"quickchart('df-61de981c-d4ee-4bc9-baed-2d34082702e6')\"\n",
              "            title=\"Suggest charts.\"\n",
              "            style=\"display:none;\">\n",
              "\n",
              "<svg xmlns=\"http://www.w3.org/2000/svg\" height=\"24px\"viewBox=\"0 0 24 24\"\n",
              "     width=\"24px\">\n",
              "    <g>\n",
              "        <path d=\"M19 3H5c-1.1 0-2 .9-2 2v14c0 1.1.9 2 2 2h14c1.1 0 2-.9 2-2V5c0-1.1-.9-2-2-2zM9 17H7v-7h2v7zm4 0h-2V7h2v10zm4 0h-2v-4h2v4z\"/>\n",
              "    </g>\n",
              "</svg>\n",
              "  </button>\n",
              "\n",
              "<style>\n",
              "  .colab-df-quickchart {\n",
              "      --bg-color: #E8F0FE;\n",
              "      --fill-color: #1967D2;\n",
              "      --hover-bg-color: #E2EBFA;\n",
              "      --hover-fill-color: #174EA6;\n",
              "      --disabled-fill-color: #AAA;\n",
              "      --disabled-bg-color: #DDD;\n",
              "  }\n",
              "\n",
              "  [theme=dark] .colab-df-quickchart {\n",
              "      --bg-color: #3B4455;\n",
              "      --fill-color: #D2E3FC;\n",
              "      --hover-bg-color: #434B5C;\n",
              "      --hover-fill-color: #FFFFFF;\n",
              "      --disabled-bg-color: #3B4455;\n",
              "      --disabled-fill-color: #666;\n",
              "  }\n",
              "\n",
              "  .colab-df-quickchart {\n",
              "    background-color: var(--bg-color);\n",
              "    border: none;\n",
              "    border-radius: 50%;\n",
              "    cursor: pointer;\n",
              "    display: none;\n",
              "    fill: var(--fill-color);\n",
              "    height: 32px;\n",
              "    padding: 0;\n",
              "    width: 32px;\n",
              "  }\n",
              "\n",
              "  .colab-df-quickchart:hover {\n",
              "    background-color: var(--hover-bg-color);\n",
              "    box-shadow: 0 1px 2px rgba(60, 64, 67, 0.3), 0 1px 3px 1px rgba(60, 64, 67, 0.15);\n",
              "    fill: var(--button-hover-fill-color);\n",
              "  }\n",
              "\n",
              "  .colab-df-quickchart-complete:disabled,\n",
              "  .colab-df-quickchart-complete:disabled:hover {\n",
              "    background-color: var(--disabled-bg-color);\n",
              "    fill: var(--disabled-fill-color);\n",
              "    box-shadow: none;\n",
              "  }\n",
              "\n",
              "  .colab-df-spinner {\n",
              "    border: 2px solid var(--fill-color);\n",
              "    border-color: transparent;\n",
              "    border-bottom-color: var(--fill-color);\n",
              "    animation:\n",
              "      spin 1s steps(1) infinite;\n",
              "  }\n",
              "\n",
              "  @keyframes spin {\n",
              "    0% {\n",
              "      border-color: transparent;\n",
              "      border-bottom-color: var(--fill-color);\n",
              "      border-left-color: var(--fill-color);\n",
              "    }\n",
              "    20% {\n",
              "      border-color: transparent;\n",
              "      border-left-color: var(--fill-color);\n",
              "      border-top-color: var(--fill-color);\n",
              "    }\n",
              "    30% {\n",
              "      border-color: transparent;\n",
              "      border-left-color: var(--fill-color);\n",
              "      border-top-color: var(--fill-color);\n",
              "      border-right-color: var(--fill-color);\n",
              "    }\n",
              "    40% {\n",
              "      border-color: transparent;\n",
              "      border-right-color: var(--fill-color);\n",
              "      border-top-color: var(--fill-color);\n",
              "    }\n",
              "    60% {\n",
              "      border-color: transparent;\n",
              "      border-right-color: var(--fill-color);\n",
              "    }\n",
              "    80% {\n",
              "      border-color: transparent;\n",
              "      border-right-color: var(--fill-color);\n",
              "      border-bottom-color: var(--fill-color);\n",
              "    }\n",
              "    90% {\n",
              "      border-color: transparent;\n",
              "      border-bottom-color: var(--fill-color);\n",
              "    }\n",
              "  }\n",
              "</style>\n",
              "\n",
              "  <script>\n",
              "    async function quickchart(key) {\n",
              "      const quickchartButtonEl =\n",
              "        document.querySelector('#' + key + ' button');\n",
              "      quickchartButtonEl.disabled = true;  // To prevent multiple clicks.\n",
              "      quickchartButtonEl.classList.add('colab-df-spinner');\n",
              "      try {\n",
              "        const charts = await google.colab.kernel.invokeFunction(\n",
              "            'suggestCharts', [key], {});\n",
              "      } catch (error) {\n",
              "        console.error('Error during call to suggestCharts:', error);\n",
              "      }\n",
              "      quickchartButtonEl.classList.remove('colab-df-spinner');\n",
              "      quickchartButtonEl.classList.add('colab-df-quickchart-complete');\n",
              "    }\n",
              "    (() => {\n",
              "      let quickchartButtonEl =\n",
              "        document.querySelector('#df-61de981c-d4ee-4bc9-baed-2d34082702e6 button');\n",
              "      quickchartButtonEl.style.display =\n",
              "        google.colab.kernel.accessAllowed ? 'block' : 'none';\n",
              "    })();\n",
              "  </script>\n",
              "</div>\n",
              "    </div>\n",
              "  </div>\n"
            ]
          },
          "metadata": {},
          "execution_count": 23
        }
      ]
    },
    {
      "cell_type": "code",
      "source": [
        "fig, ax = plt.subplots(figsize=(8, 8))\n",
        "\n",
        "# Plot horizontal bar graph\n",
        "CleanTitle.sort_values(by='count').plot.barh(x='words',\n",
        "                      y='count',\n",
        "                      ax=ax,\n",
        "                      color=\"purple\")\n",
        "\n",
        "ax.set_title(\"Common Words Found in Title Of Cooking Test  Data (Including All Words)\")\n",
        "\n",
        "plt.show()"
      ],
      "metadata": {
        "colab": {
          "base_uri": "https://localhost:8080/",
          "height": 699
        },
        "id": "Y0FCc5PnNjAP",
        "outputId": "4dc17f83-7d57-426a-912a-ebdd10a21bb7"
      },
      "execution_count": 24,
      "outputs": [
        {
          "output_type": "display_data",
          "data": {
            "text/plain": [
              "<Figure size 800x800 with 1 Axes>"
            ],
            "image/png": "[encoded data removed]"
          },
          "metadata": {}
        }
      ]
    },
    {
      "cell_type": "code",
      "source": [
        "#background_df = pd.DataFrame({'Background': backgrounds})"
      ],
      "metadata": {
        "id": "_9mc7m-Noabf"
      },
      "execution_count": 25,
      "outputs": []
    },
    {
      "cell_type": "code",
      "source": [
        "background_df_list = background_df['Background'].tolist()"
      ],
      "metadata": {
        "id": "wfeQOdasmjFk"
      },
      "execution_count": 26,
      "outputs": []
    },
    {
      "cell_type": "code",
      "source": [
        "background_df_list[:3]"
      ],
      "metadata": {
        "colab": {
          "base_uri": "https://localhost:8080/",
          "height": 0
        },
        "id": "sX01WzOimjNx",
        "outputId": "93f9b9cc-1330-4ebf-e91d-035ef3899003"
      },
      "execution_count": 27,
      "outputs": [
        {
          "output_type": "execute_result",
          "data": {
            "text/plain": [
              "[\"We're going to try canning some homemade chili with canned kidney beans. Question: Would it be best to add the beans right before canning so they don't get over cooked or do you think there would be little difference if they were cooked with the chili before canning. I'm trying to avoid mushy beans but would like to cook a big pot and can the left overs. I usually add the beans in the last half hour of cooking anyway.\",\n",
              " \"Other forms of poultry are regarded as undercooked at the slightest sign of pink juices and yet it is common practice to cook duck so that it's medium rare. Is the risk of food poisoning significantly lower with duck meat than other birds?On the other hand, if we could be sure that a piece of chicken could was salmonella-free, would its texture and flavor be improved by not overcooking it? I expect the sight of pink would put most people off but if one could overcome that, could it actually taste better?\",\n",
              " \"I've seen this question and obviously carbon steel (not stainless) knives look quite bad without extra care (picture from the linked to question)Now my question is - why face the trouble? Why would I prefer a carbon steel kitchen knife over a stainless steel one?\"]"
            ]
          },
          "metadata": {},
          "execution_count": 27
        }
      ]
    },
    {
      "cell_type": "code",
      "source": [
        "def clean_string(text): # can be Title, Background, Paragraphs\n",
        "    \"\"\"re.sub(pattern, repl, string).\n",
        "    Returns the string obtained by replacing the leftmost\n",
        "    non-overlapping occurrences of pattern in string by the\n",
        "    replacement thus removing any urls\n",
        "    \"\"\"\n",
        "    return \" \".join(re.sub(\"([^0-9A-Za-z \\t])|(\\w+:\\/\\/\\S+)\", \"\", str(text)).split())"
      ],
      "metadata": {
        "id": "Gtdp_xRLmjU4"
      },
      "execution_count": 28,
      "outputs": []
    },
    {
      "cell_type": "code",
      "source": [
        "TextOnlyBackground = [clean_string(Background) for Background in background_df_list]#can be Title, Background, Paragraphs"
      ],
      "metadata": {
        "id": "e-4UeRZimjbj"
      },
      "execution_count": 29,
      "outputs": []
    },
    {
      "cell_type": "code",
      "source": [
        "TextOnlyBackground[:1] # Can be Title, Background, Paragraphs"
      ],
      "metadata": {
        "colab": {
          "base_uri": "https://localhost:8080/",
          "height": 0
        },
        "id": "cKgxqvwumjiT",
        "outputId": "d3a24181-0548-44f3-aeea-8c6876bc90cd"
      },
      "execution_count": 30,
      "outputs": [
        {
          "output_type": "execute_result",
          "data": {
            "text/plain": [
              "['Were going to try canning some homemade chili with canned kidney beans Question Would it be best to add the beans right before canning so they dont get over cooked or do you think there would be little difference if they were cooked with the chili before canning Im trying to avoid mushy beans but would like to cook a big pot and can the left overs I usually add the beans in the last half hour of cooking anyway']"
            ]
          },
          "metadata": {},
          "execution_count": 30
        }
      ]
    },
    {
      "cell_type": "code",
      "source": [
        "ListlowercasewordsBackground = [Background.lower().split() for Background in TextOnlyBackground]"
      ],
      "metadata": {
        "id": "24Naf_I6mjog"
      },
      "execution_count": 31,
      "outputs": []
    },
    {
      "cell_type": "code",
      "source": [
        "data = ListlowercasewordsBackground[:3]\n",
        "for x in data:\n",
        "    print(x, end=' ')"
      ],
      "metadata": {
        "colab": {
          "base_uri": "https://localhost:8080/",
          "height": 0
        },
        "id": "Fx5DakEomjtn",
        "outputId": "f6fb597e-30f4-4a11-9b6c-37f3a0d21d4a"
      },
      "execution_count": 32,
      "outputs": [
        {
          "output_type": "stream",
          "name": "stdout",
          "text": [
            "['were', 'going', 'to', 'try', 'canning', 'some', 'homemade', 'chili', 'with', 'canned', 'kidney', 'beans', 'question', 'would', 'it', 'be', 'best', 'to', 'add', 'the', 'beans', 'right', 'before', 'canning', 'so', 'they', 'dont', 'get', 'over', 'cooked', 'or', 'do', 'you', 'think', 'there', 'would', 'be', 'little', 'difference', 'if', 'they', 'were', 'cooked', 'with', 'the', 'chili', 'before', 'canning', 'im', 'trying', 'to', 'avoid', 'mushy', 'beans', 'but', 'would', 'like', 'to', 'cook', 'a', 'big', 'pot', 'and', 'can', 'the', 'left', 'overs', 'i', 'usually', 'add', 'the', 'beans', 'in', 'the', 'last', 'half', 'hour', 'of', 'cooking', 'anyway'] ['other', 'forms', 'of', 'poultry', 'are', 'regarded', 'as', 'undercooked', 'at', 'the', 'slightest', 'sign', 'of', 'pink', 'juices', 'and', 'yet', 'it', 'is', 'common', 'practice', 'to', 'cook', 'duck', 'so', 'that', 'its', 'medium', 'rare', 'is', 'the', 'risk', 'of', 'food', 'poisoning', 'significantly', 'lower', 'with', 'duck', 'meat', 'than', 'other', 'birdson', 'the', 'other', 'hand', 'if', 'we', 'could', 'be', 'sure', 'that', 'a', 'piece', 'of', 'chicken', 'could', 'was', 'salmonellafree', 'would', 'its', 'texture', 'and', 'flavor', 'be', 'improved', 'by', 'not', 'overcooking', 'it', 'i', 'expect', 'the', 'sight', 'of', 'pink', 'would', 'put', 'most', 'people', 'off', 'but', 'if', 'one', 'could', 'overcome', 'that', 'could', 'it', 'actually', 'taste', 'better'] ['ive', 'seen', 'this', 'question', 'and', 'obviously', 'carbon', 'steel', 'not', 'stainless', 'knives', 'look', 'quite', 'bad', 'without', 'extra', 'care', 'picture', 'from', 'the', 'linked', 'to', 'questionnow', 'my', 'question', 'is', 'why', 'face', 'the', 'trouble', 'why', 'would', 'i', 'prefer', 'a', 'carbon', 'steel', 'kitchen', 'knife', 'over', 'a', 'stainless', 'steel', 'one'] "
          ]
        }
      ]
    },
    {
      "cell_type": "code",
      "source": [
        "TextOnlyBackground = list(itertools.chain(*ListlowercasewordsBackground))"
      ],
      "metadata": {
        "id": "MZqbN8i3mjzD"
      },
      "execution_count": 33,
      "outputs": []
    },
    {
      "cell_type": "code",
      "source": [
        "TextOnlyBackground[:2]"
      ],
      "metadata": {
        "colab": {
          "base_uri": "https://localhost:8080/",
          "height": 0
        },
        "id": "-68NfADWmj4y",
        "outputId": "05aee64c-5374-49d4-d675-d68f3cb74b41"
      },
      "execution_count": 34,
      "outputs": [
        {
          "output_type": "execute_result",
          "data": {
            "text/plain": [
              "['were', 'going']"
            ]
          },
          "metadata": {},
          "execution_count": 34
        }
      ]
    },
    {
      "cell_type": "code",
      "source": [
        "len(TextOnlyBackground)"
      ],
      "metadata": {
        "colab": {
          "base_uri": "https://localhost:8080/",
          "height": 0
        },
        "id": "3T_IcS4PmkAb",
        "outputId": "9fa600f1-31f6-493a-b316-a3219dd9e154"
      },
      "execution_count": 35,
      "outputs": [
        {
          "output_type": "execute_result",
          "data": {
            "text/plain": [
              "35935"
            ]
          },
          "metadata": {},
          "execution_count": 35
        }
      ]
    },
    {
      "cell_type": "code",
      "source": [
        "UniqueWordsBackground = set(TextOnlyBackground)"
      ],
      "metadata": {
        "id": "mYPMFkSln0UU"
      },
      "execution_count": 36,
      "outputs": []
    },
    {
      "cell_type": "code",
      "source": [
        "len(UniqueWordsBackground) #15816/101330=15.6% Unique%=UniqueWords/TextOnlyTweet"
      ],
      "metadata": {
        "colab": {
          "base_uri": "https://localhost:8080/",
          "height": 0
        },
        "id": "enBYl9YanaGa",
        "outputId": "b75bfaea-32fa-44e0-e121-24adcbceef5a"
      },
      "execution_count": 37,
      "outputs": [
        {
          "output_type": "execute_result",
          "data": {
            "text/plain": [
              "4870"
            ]
          },
          "metadata": {},
          "execution_count": 37
        }
      ]
    },
    {
      "cell_type": "code",
      "source": [
        "CountTextOnlyBackground = collections.Counter(TextOnlyBackground)"
      ],
      "metadata": {
        "id": "MJMlxSLAnaOA"
      },
      "execution_count": 38,
      "outputs": []
    },
    {
      "cell_type": "code",
      "source": [
        "CountTextOnlyBackground.most_common(25)"
      ],
      "metadata": {
        "colab": {
          "base_uri": "https://localhost:8080/",
          "height": 0
        },
        "id": "tKBE_8tfnaVl",
        "outputId": "e9f562d7-4ee9-40ec-fbcb-414a4991bfa7"
      },
      "execution_count": 39,
      "outputs": [
        {
          "output_type": "execute_result",
          "data": {
            "text/plain": [
              "[('the', 1816),\n",
              " ('i', 1287),\n",
              " ('to', 1049),\n",
              " ('a', 991),\n",
              " ('and', 823),\n",
              " ('it', 704),\n",
              " ('of', 634),\n",
              " ('in', 546),\n",
              " ('is', 521),\n",
              " ('for', 485),\n",
              " ('that', 441),\n",
              " ('with', 278),\n",
              " ('or', 278),\n",
              " ('this', 276),\n",
              " ('have', 260),\n",
              " ('but', 253),\n",
              " ('be', 236),\n",
              " ('my', 220),\n",
              " ('not', 210),\n",
              " ('on', 198),\n",
              " ('if', 182),\n",
              " ('can', 180),\n",
              " ('what', 174),\n",
              " ('as', 172),\n",
              " ('there', 155)]"
            ]
          },
          "metadata": {},
          "execution_count": 39
        }
      ]
    },
    {
      "cell_type": "code",
      "source": [
        "CleanBackground = pd.DataFrame(CountTextOnlyBackground.most_common(10),\n",
        "                        columns=['words', 'count'])"
      ],
      "metadata": {
        "id": "Xf8H8EREnacc"
      },
      "execution_count": 40,
      "outputs": []
    },
    {
      "cell_type": "code",
      "source": [
        "CleanBackground"
      ],
      "metadata": {
        "colab": {
          "base_uri": "https://localhost:8080/",
          "height": 363
        },
        "id": "gFI24fpuoJo4",
        "outputId": "5608a0da-1602-42ab-f604-d55d2ec42aa6"
      },
      "execution_count": 41,
      "outputs": [
        {
          "output_type": "execute_result",
          "data": {
            "text/plain": [
              "  words  count\n",
              "0   the   1816\n",
              "1     i   1287\n",
              "2    to   1049\n",
              "3     a    991\n",
              "4   and    823\n",
              "5    it    704\n",
              "6    of    634\n",
              "7    in    546\n",
              "8    is    521\n",
              "9   for    485"
            ],
            "text/html": [
              "\n",
              "  <div id=\"df-ec1ca1e3-3d3a-44c2-b3f5-e45454711689\" class=\"colab-df-container\">\n",
              "    <div>\n",
              "<style scoped>\n",
              "    .dataframe tbody tr th:only-of-type {\n",
              "        vertical-align: middle;\n",
              "    }\n",
              "\n",
              "    .dataframe tbody tr th {\n",
              "        vertical-align: top;\n",
              "    }\n",
              "\n",
              "    .dataframe thead th {\n",
              "        text-align: right;\n",
              "    }\n",
              "</style>\n",
              "<table border=\"1\" class=\"dataframe\">\n",
              "  <thead>\n",
              "    <tr style=\"text-align: right;\">\n",
              "      <th></th>\n",
              "      <th>words</th>\n",
              "      <th>count</th>\n",
              "    </tr>\n",
              "  </thead>\n",
              "  <tbody>\n",
              "    <tr>\n",
              "      <th>0</th>\n",
              "      <td>the</td>\n",
              "      <td>1816</td>\n",
              "    </tr>\n",
              "    <tr>\n",
              "      <th>1</th>\n",
              "      <td>i</td>\n",
              "      <td>1287</td>\n",
              "    </tr>\n",
              "    <tr>\n",
              "      <th>2</th>\n",
              "      <td>to</td>\n",
              "      <td>1049</td>\n",
              "    </tr>\n",
              "    <tr>\n",
              "      <th>3</th>\n",
              "      <td>a</td>\n",
              "      <td>991</td>\n",
              "    </tr>\n",
              "    <tr>\n",
              "      <th>4</th>\n",
              "      <td>and</td>\n",
              "      <td>823</td>\n",
              "    </tr>\n",
              "    <tr>\n",
              "      <th>5</th>\n",
              "      <td>it</td>\n",
              "      <td>704</td>\n",
              "    </tr>\n",
              "    <tr>\n",
              "      <th>6</th>\n",
              "      <td>of</td>\n",
              "      <td>634</td>\n",
              "    </tr>\n",
              "    <tr>\n",
              "      <th>7</th>\n",
              "      <td>in</td>\n",
              "      <td>546</td>\n",
              "    </tr>\n",
              "    <tr>\n",
              "      <th>8</th>\n",
              "      <td>is</td>\n",
              "      <td>521</td>\n",
              "    </tr>\n",
              "    <tr>\n",
              "      <th>9</th>\n",
              "      <td>for</td>\n",
              "      <td>485</td>\n",
              "    </tr>\n",
              "  </tbody>\n",
              "</table>\n",
              "</div>\n",
              "    <div class=\"colab-df-buttons\">\n",
              "\n",
              "  <div class=\"colab-df-container\">\n",
              "    <button class=\"colab-df-convert\" onclick=\"convertToInteractive('df-ec1ca1e3-3d3a-44c2-b3f5-e45454711689')\"\n",
              "            title=\"Convert this dataframe to an interactive table.\"\n",
              "            style=\"display:none;\">\n",
              "\n",
              "  <svg xmlns=\"http://www.w3.org/2000/svg\" height=\"24px\" viewBox=\"0 -960 960 960\">\n",
              "    <path d=\"M120-120v-720h720v720H120Zm60-500h600v-160H180v160Zm220 220h160v-160H400v160Zm0 220h160v-160H400v160ZM180-400h160v-160H180v160Zm440 0h160v-160H620v160ZM180-180h160v-160H180v160Zm440 0h160v-160H620v160Z\"/>\n",
              "  </svg>\n",
              "    </button>\n",
              "\n",
              "  <style>\n",
              "    .colab-df-container {\n",
              "      display:flex;\n",
              "      gap: 12px;\n",
              "    }\n",
              "\n",
              "    .colab-df-convert {\n",
              "      background-color: #E8F0FE;\n",
              "      border: none;\n",
              "      border-radius: 50%;\n",
              "      cursor: pointer;\n",
              "      display: none;\n",
              "      fill: #1967D2;\n",
              "      height: 32px;\n",
              "      padding: 0 0 0 0;\n",
              "      width: 32px;\n",
              "    }\n",
              "\n",
              "    .colab-df-convert:hover {\n",
              "      background-color: #E2EBFA;\n",
              "      box-shadow: 0px 1px 2px rgba(60, 64, 67, 0.3), 0px 1px 3px 1px rgba(60, 64, 67, 0.15);\n",
              "      fill: #174EA6;\n",
              "    }\n",
              "\n",
              "    .colab-df-buttons div {\n",
              "      margin-bottom: 4px;\n",
              "    }\n",
              "\n",
              "    [theme=dark] .colab-df-convert {\n",
              "      background-color: #3B4455;\n",
              "      fill: #D2E3FC;\n",
              "    }\n",
              "\n",
              "    [theme=dark] .colab-df-convert:hover {\n",
              "      background-color: #434B5C;\n",
              "      box-shadow: 0px 1px 3px 1px rgba(0, 0, 0, 0.15);\n",
              "      filter: drop-shadow(0px 1px 2px rgba(0, 0, 0, 0.3));\n",
              "      fill: #FFFFFF;\n",
              "    }\n",
              "  </style>\n",
              "\n",
              "    <script>\n",
              "      const buttonEl =\n",
              "        document.querySelector('#df-ec1ca1e3-3d3a-44c2-b3f5-e45454711689 button.colab-df-convert');\n",
              "      buttonEl.style.display =\n",
              "        google.colab.kernel.accessAllowed ? 'block' : 'none';\n",
              "\n",
              "      async function convertToInteractive(key) {\n",
              "        const element = document.querySelector('#df-ec1ca1e3-3d3a-44c2-b3f5-e45454711689');\n",
              "        const dataTable =\n",
              "          await google.colab.kernel.invokeFunction('convertToInteractive',\n",
              "                                                    [key], {});\n",
              "        if (!dataTable) return;\n",
              "\n",
              "        const docLinkHtml = 'Like what you see? Visit the ' +\n",
              "          '<a target=\"_blank\" href=https://colab.research.google.com/notebooks/data_table.ipynb>data table notebook</a>'\n",
              "          + ' to learn more about interactive tables.';\n",
              "        element.innerHTML = '';\n",
              "        dataTable['output_type'] = 'display_data';\n",
              "        await google.colab.output.renderOutput(dataTable, element);\n",
              "        const docLink = document.createElement('div');\n",
              "        docLink.innerHTML = docLinkHtml;\n",
              "        element.appendChild(docLink);\n",
              "      }\n",
              "    </script>\n",
              "  </div>\n",
              "\n",
              "\n",
              "<div id=\"df-b6bce6b9-ad32-4c0f-99c0-ecb3c72b6eec\">\n",
              "  <button class=\"colab-df-quickchart\" onclick=\"quickchart('df-b6bce6b9-ad32-4c0f-99c0-ecb3c72b6eec')\"\n",
              "            title=\"Suggest charts.\"\n",
              "            style=\"display:none;\">\n",
              "\n",
              "<svg xmlns=\"http://www.w3.org/2000/svg\" height=\"24px\"viewBox=\"0 0 24 24\"\n",
              "     width=\"24px\">\n",
              "    <g>\n",
              "        <path d=\"M19 3H5c-1.1 0-2 .9-2 2v14c0 1.1.9 2 2 2h14c1.1 0 2-.9 2-2V5c0-1.1-.9-2-2-2zM9 17H7v-7h2v7zm4 0h-2V7h2v10zm4 0h-2v-4h2v4z\"/>\n",
              "    </g>\n",
              "</svg>\n",
              "  </button>\n",
              "\n",
              "<style>\n",
              "  .colab-df-quickchart {\n",
              "      --bg-color: #E8F0FE;\n",
              "      --fill-color: #1967D2;\n",
              "      --hover-bg-color: #E2EBFA;\n",
              "      --hover-fill-color: #174EA6;\n",
              "      --disabled-fill-color: #AAA;\n",
              "      --disabled-bg-color: #DDD;\n",
              "  }\n",
              "\n",
              "  [theme=dark] .colab-df-quickchart {\n",
              "      --bg-color: #3B4455;\n",
              "      --fill-color: #D2E3FC;\n",
              "      --hover-bg-color: #434B5C;\n",
              "      --hover-fill-color: #FFFFFF;\n",
              "      --disabled-bg-color: #3B4455;\n",
              "      --disabled-fill-color: #666;\n",
              "  }\n",
              "\n",
              "  .colab-df-quickchart {\n",
              "    background-color: var(--bg-color);\n",
              "    border: none;\n",
              "    border-radius: 50%;\n",
              "    cursor: pointer;\n",
              "    display: none;\n",
              "    fill: var(--fill-color);\n",
              "    height: 32px;\n",
              "    padding: 0;\n",
              "    width: 32px;\n",
              "  }\n",
              "\n",
              "  .colab-df-quickchart:hover {\n",
              "    background-color: var(--hover-bg-color);\n",
              "    box-shadow: 0 1px 2px rgba(60, 64, 67, 0.3), 0 1px 3px 1px rgba(60, 64, 67, 0.15);\n",
              "    fill: var(--button-hover-fill-color);\n",
              "  }\n",
              "\n",
              "  .colab-df-quickchart-complete:disabled,\n",
              "  .colab-df-quickchart-complete:disabled:hover {\n",
              "    background-color: var(--disabled-bg-color);\n",
              "    fill: var(--disabled-fill-color);\n",
              "    box-shadow: none;\n",
              "  }\n",
              "\n",
              "  .colab-df-spinner {\n",
              "    border: 2px solid var(--fill-color);\n",
              "    border-color: transparent;\n",
              "    border-bottom-color: var(--fill-color);\n",
              "    animation:\n",
              "      spin 1s steps(1) infinite;\n",
              "  }\n",
              "\n",
              "  @keyframes spin {\n",
              "    0% {\n",
              "      border-color: transparent;\n",
              "      border-bottom-color: var(--fill-color);\n",
              "      border-left-color: var(--fill-color);\n",
              "    }\n",
              "    20% {\n",
              "      border-color: transparent;\n",
              "      border-left-color: var(--fill-color);\n",
              "      border-top-color: var(--fill-color);\n",
              "    }\n",
              "    30% {\n",
              "      border-color: transparent;\n",
              "      border-left-color: var(--fill-color);\n",
              "      border-top-color: var(--fill-color);\n",
              "      border-right-color: var(--fill-color);\n",
              "    }\n",
              "    40% {\n",
              "      border-color: transparent;\n",
              "      border-right-color: var(--fill-color);\n",
              "      border-top-color: var(--fill-color);\n",
              "    }\n",
              "    60% {\n",
              "      border-color: transparent;\n",
              "      border-right-color: var(--fill-color);\n",
              "    }\n",
              "    80% {\n",
              "      border-color: transparent;\n",
              "      border-right-color: var(--fill-color);\n",
              "      border-bottom-color: var(--fill-color);\n",
              "    }\n",
              "    90% {\n",
              "      border-color: transparent;\n",
              "      border-bottom-color: var(--fill-color);\n",
              "    }\n",
              "  }\n",
              "</style>\n",
              "\n",
              "  <script>\n",
              "    async function quickchart(key) {\n",
              "      const quickchartButtonEl =\n",
              "        document.querySelector('#' + key + ' button');\n",
              "      quickchartButtonEl.disabled = true;  // To prevent multiple clicks.\n",
              "      quickchartButtonEl.classList.add('colab-df-spinner');\n",
              "      try {\n",
              "        const charts = await google.colab.kernel.invokeFunction(\n",
              "            'suggestCharts', [key], {});\n",
              "      } catch (error) {\n",
              "        console.error('Error during call to suggestCharts:', error);\n",
              "      }\n",
              "      quickchartButtonEl.classList.remove('colab-df-spinner');\n",
              "      quickchartButtonEl.classList.add('colab-df-quickchart-complete');\n",
              "    }\n",
              "    (() => {\n",
              "      let quickchartButtonEl =\n",
              "        document.querySelector('#df-b6bce6b9-ad32-4c0f-99c0-ecb3c72b6eec button');\n",
              "      quickchartButtonEl.style.display =\n",
              "        google.colab.kernel.accessAllowed ? 'block' : 'none';\n",
              "    })();\n",
              "  </script>\n",
              "</div>\n",
              "    </div>\n",
              "  </div>\n"
            ]
          },
          "metadata": {},
          "execution_count": 41
        }
      ]
    },
    {
      "cell_type": "code",
      "source": [
        "fig, ax = plt.subplots(figsize=(8, 8))\n",
        "\n",
        "# Plot horizontal bar graph\n",
        "CleanBackground.sort_values(by='count').plot.barh(x='words',\n",
        "                      y='count',\n",
        "                      ax=ax,\n",
        "                      color=\"purple\")\n",
        "\n",
        "ax.set_title(\"Common Words Found in Background Of Cooking Test Data (Including All Words)\")\n",
        "\n",
        "plt.show()"
      ],
      "metadata": {
        "colab": {
          "base_uri": "https://localhost:8080/",
          "height": 699
        },
        "id": "hoQeFiB9oJwE",
        "outputId": "e2a32fa5-78af-46fd-95c6-30fcf4dc7527"
      },
      "execution_count": 42,
      "outputs": [
        {
          "output_type": "display_data",
          "data": {
            "text/plain": [
              "<Figure size 800x800 with 1 Axes>"
            ],
            "image/png": "[encoded data removed]"
          },
          "metadata": {}
        }
      ]
    },
    {
      "cell_type": "code",
      "source": [
        "#importing stop word dictionary\n",
        "nltk.download('stopwords')"
      ],
      "metadata": {
        "colab": {
          "base_uri": "https://localhost:8080/",
          "height": 0
        },
        "id": "98q8EUByoJ2e",
        "outputId": "e7ba8999-79af-4f64-99a6-1803b3c3b686"
      },
      "execution_count": 43,
      "outputs": [
        {
          "output_type": "stream",
          "name": "stderr",
          "text": [
            "[nltk_data] Downloading package stopwords to /root/nltk_data...\n",
            "[nltk_data]   Package stopwords is already up-to-date!\n"
          ]
        },
        {
          "output_type": "execute_result",
          "data": {
            "text/plain": [
              "True"
            ]
          },
          "metadata": {},
          "execution_count": 43
        }
      ]
    },
    {
      "cell_type": "code",
      "source": [
        "#Defining The Stop Words\n",
        "stop_words = set(stopwords.words('english')) #there are 179 stop words"
      ],
      "metadata": {
        "id": "Qr1r6ufNoJ9Y"
      },
      "execution_count": 44,
      "outputs": []
    },
    {
      "cell_type": "code",
      "source": [
        "# View a few words from the set\n",
        "list(stop_words)[0:5]"
      ],
      "metadata": {
        "colab": {
          "base_uri": "https://localhost:8080/",
          "height": 0
        },
        "id": "RjDRjhfgoKE8",
        "outputId": "b5b8f6c3-10c6-41af-ba44-9379a4991bc7"
      },
      "execution_count": 45,
      "outputs": [
        {
          "output_type": "execute_result",
          "data": {
            "text/plain": [
              "['above', 'no', \"wasn't\", 'wasn', 'isn']"
            ]
          },
          "metadata": {},
          "execution_count": 45
        }
      ]
    },
    {
      "cell_type": "code",
      "source": [
        "ListlowercasewordsBackground[0] #list each lower case tweet"
      ],
      "metadata": {
        "colab": {
          "base_uri": "https://localhost:8080/",
          "height": 0
        },
        "id": "y3B3dN9enaj9",
        "outputId": "b20b6d16-9353-41c0-dabe-13c0487f016b"
      },
      "execution_count": 46,
      "outputs": [
        {
          "output_type": "execute_result",
          "data": {
            "text/plain": [
              "['were',\n",
              " 'going',\n",
              " 'to',\n",
              " 'try',\n",
              " 'canning',\n",
              " 'some',\n",
              " 'homemade',\n",
              " 'chili',\n",
              " 'with',\n",
              " 'canned',\n",
              " 'kidney',\n",
              " 'beans',\n",
              " 'question',\n",
              " 'would',\n",
              " 'it',\n",
              " 'be',\n",
              " 'best',\n",
              " 'to',\n",
              " 'add',\n",
              " 'the',\n",
              " 'beans',\n",
              " 'right',\n",
              " 'before',\n",
              " 'canning',\n",
              " 'so',\n",
              " 'they',\n",
              " 'dont',\n",
              " 'get',\n",
              " 'over',\n",
              " 'cooked',\n",
              " 'or',\n",
              " 'do',\n",
              " 'you',\n",
              " 'think',\n",
              " 'there',\n",
              " 'would',\n",
              " 'be',\n",
              " 'little',\n",
              " 'difference',\n",
              " 'if',\n",
              " 'they',\n",
              " 'were',\n",
              " 'cooked',\n",
              " 'with',\n",
              " 'the',\n",
              " 'chili',\n",
              " 'before',\n",
              " 'canning',\n",
              " 'im',\n",
              " 'trying',\n",
              " 'to',\n",
              " 'avoid',\n",
              " 'mushy',\n",
              " 'beans',\n",
              " 'but',\n",
              " 'would',\n",
              " 'like',\n",
              " 'to',\n",
              " 'cook',\n",
              " 'a',\n",
              " 'big',\n",
              " 'pot',\n",
              " 'and',\n",
              " 'can',\n",
              " 'the',\n",
              " 'left',\n",
              " 'overs',\n",
              " 'i',\n",
              " 'usually',\n",
              " 'add',\n",
              " 'the',\n",
              " 'beans',\n",
              " 'in',\n",
              " 'the',\n",
              " 'last',\n",
              " 'half',\n",
              " 'hour',\n",
              " 'of',\n",
              " 'cooking',\n",
              " 'anyway']"
            ]
          },
          "metadata": {},
          "execution_count": 46
        }
      ]
    },
    {
      "cell_type": "code",
      "source": [
        "BackgroundWithoutStopwords = [[word for word in TextOnlyBackground if not word in stop_words] #works\n",
        "              for TextOnlyBackground in ListlowercasewordsBackground]"
      ],
      "metadata": {
        "id": "M1FS6Ji-raRx"
      },
      "execution_count": 47,
      "outputs": []
    },
    {
      "cell_type": "code",
      "source": [
        "BackgroundWithoutStopwords[0]"
      ],
      "metadata": {
        "colab": {
          "base_uri": "https://localhost:8080/",
          "height": 0
        },
        "id": "JWgPqGNIracM",
        "outputId": "f864d34b-fccd-4080-85e6-38dac21477b7"
      },
      "execution_count": 48,
      "outputs": [
        {
          "output_type": "execute_result",
          "data": {
            "text/plain": [
              "['going',\n",
              " 'try',\n",
              " 'canning',\n",
              " 'homemade',\n",
              " 'chili',\n",
              " 'canned',\n",
              " 'kidney',\n",
              " 'beans',\n",
              " 'question',\n",
              " 'would',\n",
              " 'best',\n",
              " 'add',\n",
              " 'beans',\n",
              " 'right',\n",
              " 'canning',\n",
              " 'dont',\n",
              " 'get',\n",
              " 'cooked',\n",
              " 'think',\n",
              " 'would',\n",
              " 'little',\n",
              " 'difference',\n",
              " 'cooked',\n",
              " 'chili',\n",
              " 'canning',\n",
              " 'im',\n",
              " 'trying',\n",
              " 'avoid',\n",
              " 'mushy',\n",
              " 'beans',\n",
              " 'would',\n",
              " 'like',\n",
              " 'cook',\n",
              " 'big',\n",
              " 'pot',\n",
              " 'left',\n",
              " 'overs',\n",
              " 'usually',\n",
              " 'add',\n",
              " 'beans',\n",
              " 'last',\n",
              " 'half',\n",
              " 'hour',\n",
              " 'cooking',\n",
              " 'anyway']"
            ]
          },
          "metadata": {},
          "execution_count": 48
        }
      ]
    },
    {
      "cell_type": "code",
      "source": [
        "BackgroundWithoutStopword = list(itertools.chain(*BackgroundWithoutStopwords))"
      ],
      "metadata": {
        "id": "A9VtgVvXr0My"
      },
      "execution_count": 49,
      "outputs": []
    },
    {
      "cell_type": "code",
      "source": [
        "CountBackgroundsWithoutStopwords = collections.Counter(BackgroundWithoutStopword)"
      ],
      "metadata": {
        "id": "I4hbngoGr0Zd"
      },
      "execution_count": 50,
      "outputs": []
    },
    {
      "cell_type": "code",
      "source": [
        "CountBackgroundsWithoutStopwords.most_common(10)"
      ],
      "metadata": {
        "colab": {
          "base_uri": "https://localhost:8080/",
          "height": 0
        },
        "id": "skdg2wcNr0id",
        "outputId": "2d7c0ded-7de1-47f4-8395-d3fd4001f89c"
      },
      "execution_count": 51,
      "outputs": [
        {
          "output_type": "execute_result",
          "data": {
            "text/plain": [
              "[('make', 153),\n",
              " ('would', 149),\n",
              " ('im', 145),\n",
              " ('use', 133),\n",
              " ('like', 123),\n",
              " ('recipe', 114),\n",
              " ('one', 96),\n",
              " ('ive', 92),\n",
              " ('cooking', 91),\n",
              " ('dont', 85)]"
            ]
          },
          "metadata": {},
          "execution_count": 51
        }
      ]
    },
    {
      "cell_type": "code",
      "source": [
        "BackgroundWithoutStopwords = pd.DataFrame(CountBackgroundsWithoutStopwords.most_common(25),\n",
        "                             columns=['words', 'count'])\n",
        "\n",
        "fig, ax = plt.subplots(figsize=(8, 8))\n",
        "\n",
        "# Plot horizontal bar graph\n",
        "BackgroundWithoutStopwords.sort_values(by='count').plot.barh(x='words',\n",
        "                      y='count',\n",
        "                      ax=ax,\n",
        "                      color=\"purple\")\n",
        "\n",
        "ax.set_title(\"Common Words Found in Background Of Cooking Test Data (Without Stop Words)\")\n",
        "\n",
        "plt.show()"
      ],
      "metadata": {
        "colab": {
          "base_uri": "https://localhost:8080/",
          "height": 699
        },
        "id": "en2rMs-ZrcrY",
        "outputId": "b0dbb20c-1acd-4f2b-f59f-41790751c72e"
      },
      "execution_count": 52,
      "outputs": [
        {
          "output_type": "display_data",
          "data": {
            "text/plain": [
              "<Figure size 800x800 with 1 Axes>"
            ],
            "image/png": "[encoded data removed]"
          },
          "metadata": {}
        }
      ]
    },
    {
      "cell_type": "code",
      "source": [
        "# Create list of lists containing bigrams in tweets\n",
        "Backgroundbigram = [list(bigrams(Background)) for Background in BackgroundWithoutStopwords]"
      ],
      "metadata": {
        "id": "JHIPa_WJso7T"
      },
      "execution_count": 53,
      "outputs": []
    },
    {
      "cell_type": "code",
      "source": [
        "# View bigrams for the first tweet\n",
        "Backgroundbigram[:]\n"
      ],
      "metadata": {
        "colab": {
          "base_uri": "https://localhost:8080/",
          "height": 0
        },
        "id": "wFWzJZlOspDs",
        "outputId": "055280bf-d588-4bb2-e794-425d206d84d1"
      },
      "execution_count": 54,
      "outputs": [
        {
          "output_type": "execute_result",
          "data": {
            "text/plain": [
              "[[('w', 'o'), ('o', 'r'), ('r', 'd'), ('d', 's')],\n",
              " [('c', 'o'), ('o', 'u'), ('u', 'n'), ('n', 't')]]"
            ]
          },
          "metadata": {},
          "execution_count": 54
        }
      ]
    },
    {
      "cell_type": "markdown",
      "source": [
        "# Paragraph"
      ],
      "metadata": {
        "id": "3PsmOd8rvtWT"
      }
    },
    {
      "cell_type": "code",
      "source": [
        "#background_df = pd.DataFrame({'Background': backgrounds})"
      ],
      "metadata": {
        "id": "-sEoDTp9spNG"
      },
      "execution_count": 55,
      "outputs": []
    },
    {
      "cell_type": "code",
      "source": [
        "paragraphs_df_list = paragraphs_df['Paragraphs'].tolist()"
      ],
      "metadata": {
        "id": "46qXvs_zvxo9"
      },
      "execution_count": 56,
      "outputs": []
    },
    {
      "cell_type": "code",
      "source": [
        "paragraphs_df_list[:3]"
      ],
      "metadata": {
        "colab": {
          "base_uri": "https://localhost:8080/",
          "height": 0
        },
        "id": "Dk4-_tMfvxxA",
        "outputId": "ab1f362c-f7ad-4633-df35-690ab2fc4211"
      },
      "execution_count": 57,
      "outputs": [
        {
          "output_type": "execute_result",
          "data": {
            "text/plain": [
              "[[\"If you are going to be canning this for long term storage you will need to be pressure canning it, and as that will mean some pretty high heat you'd be better off not cooking you beans too long before canning. I'd add them in a few minutes before the end of cooking just to get them warmed up in preparation for canning it as a half hour of cooking plus pressure canning would probably mean mush. CANNOTANSWER\"],\n",
              " ['Rare duck meat is safe to eat because it does NOT contain the same risk of Salmonella as does chicken meat.Primarily because ducks, as mentioned above, have not traditionally been raised in the same squalid conditions as \"factory raised\" chickens - salmonella is a disease that is primarily transmitted through dirt/dirty unclean conditions. Now, on the other hand, as more and more ducks are being raised in industrial conditions, they are also becoming more likely to contain strains of Salmonella. CANNOTANSWER'],\n",
              " ['Carbon steel is more malleable and less brittle than stainless steel. This means that it is easier to hone on a knife steel, to maintain an extremely sharp edge.Some folks feel that the benefit of that sharp edge–for example, in easily slicing tomatoes, and other very fast prep tasks–is worth the compromise of more persnickety maintenance. CANNOTANSWER']]"
            ]
          },
          "metadata": {},
          "execution_count": 57
        }
      ]
    },
    {
      "cell_type": "code",
      "source": [
        "TextOnlyParagraphs = [clean_string(paragraphs) for paragraphs in paragraphs_df_list]#can be Title, Background, Paragraphs"
      ],
      "metadata": {
        "id": "F4_pu8dSw1BB"
      },
      "execution_count": 58,
      "outputs": []
    },
    {
      "cell_type": "code",
      "source": [
        "TextOnlyParagraphs[:1] # Can be Title, Background, Paragraphs"
      ],
      "metadata": {
        "colab": {
          "base_uri": "https://localhost:8080/",
          "height": 0
        },
        "id": "Tex1gvy0w1KC",
        "outputId": "42e8ab52-5dcd-468e-982b-823dfaf3138f"
      },
      "execution_count": 59,
      "outputs": [
        {
          "output_type": "execute_result",
          "data": {
            "text/plain": [
              "['If you are going to be canning this for long term storage you will need to be pressure canning it and as that will mean some pretty high heat youd be better off not cooking you beans too long before canning Id add them in a few minutes before the end of cooking just to get them warmed up in preparation for canning it as a half hour of cooking plus pressure canning would probably mean mush CANNOTANSWER']"
            ]
          },
          "metadata": {},
          "execution_count": 59
        }
      ]
    },
    {
      "cell_type": "code",
      "source": [
        "ListlowercasewordsParagraphs= [Paragraphs.lower().split() for Paragraphs in TextOnlyParagraphs]"
      ],
      "metadata": {
        "id": "SRWKmwvlw1Si"
      },
      "execution_count": 60,
      "outputs": []
    },
    {
      "cell_type": "code",
      "source": [
        "data = ListlowercasewordsParagraphs[:3]\n",
        "for x in data:\n",
        "    print(x, end=' ')"
      ],
      "metadata": {
        "colab": {
          "base_uri": "https://localhost:8080/",
          "height": 0
        },
        "id": "uosUBDnyyZQT",
        "outputId": "dfc2875f-f0ce-4e36-cec5-3ac9d62646fe"
      },
      "execution_count": 61,
      "outputs": [
        {
          "output_type": "stream",
          "name": "stdout",
          "text": [
            "['if', 'you', 'are', 'going', 'to', 'be', 'canning', 'this', 'for', 'long', 'term', 'storage', 'you', 'will', 'need', 'to', 'be', 'pressure', 'canning', 'it', 'and', 'as', 'that', 'will', 'mean', 'some', 'pretty', 'high', 'heat', 'youd', 'be', 'better', 'off', 'not', 'cooking', 'you', 'beans', 'too', 'long', 'before', 'canning', 'id', 'add', 'them', 'in', 'a', 'few', 'minutes', 'before', 'the', 'end', 'of', 'cooking', 'just', 'to', 'get', 'them', 'warmed', 'up', 'in', 'preparation', 'for', 'canning', 'it', 'as', 'a', 'half', 'hour', 'of', 'cooking', 'plus', 'pressure', 'canning', 'would', 'probably', 'mean', 'mush', 'cannotanswer'] ['rare', 'duck', 'meat', 'is', 'safe', 'to', 'eat', 'because', 'it', 'does', 'not', 'contain', 'the', 'same', 'risk', 'of', 'salmonella', 'as', 'does', 'chicken', 'meatprimarily', 'because', 'ducks', 'as', 'mentioned', 'above', 'have', 'not', 'traditionally', 'been', 'raised', 'in', 'the', 'same', 'squalid', 'conditions', 'as', 'factory', 'raised', 'chickens', 'salmonella', 'is', 'a', 'disease', 'that', 'is', 'primarily', 'transmitted', 'through', 'dirtdirty', 'unclean', 'conditions', 'now', 'on', 'the', 'other', 'hand', 'as', 'more', 'and', 'more', 'ducks', 'are', 'being', 'raised', 'in', 'industrial', 'conditions', 'they', 'are', 'also', 'becoming', 'more', 'likely', 'to', 'contain', 'strains', 'of', 'salmonella', 'cannotanswer'] ['carbon', 'steel', 'is', 'more', 'malleable', 'and', 'less', 'brittle', 'than', 'stainless', 'steel', 'this', 'means', 'that', 'it', 'is', 'easier', 'to', 'hone', 'on', 'a', 'knife', 'steel', 'to', 'maintain', 'an', 'extremely', 'sharp', 'edgesome', 'folks', 'feel', 'that', 'the', 'benefit', 'of', 'that', 'sharp', 'edgefor', 'example', 'in', 'easily', 'slicing', 'tomatoes', 'and', 'other', 'very', 'fast', 'prep', 'tasksis', 'worth', 'the', 'compromise', 'of', 'more', 'persnickety', 'maintenance', 'cannotanswer'] "
          ]
        }
      ]
    },
    {
      "cell_type": "code",
      "source": [
        "TextOnlyParagraphs = list(itertools.chain(*ListlowercasewordsParagraphs))"
      ],
      "metadata": {
        "id": "PvxamPu3yZZJ"
      },
      "execution_count": 62,
      "outputs": []
    },
    {
      "cell_type": "code",
      "source": [
        "TextOnlyParagraphs[:2]"
      ],
      "metadata": {
        "colab": {
          "base_uri": "https://localhost:8080/",
          "height": 0
        },
        "id": "CTk4bOEryZh0",
        "outputId": "9daf62b2-7aff-4d17-a668-c09b0c23bc49"
      },
      "execution_count": 63,
      "outputs": [
        {
          "output_type": "execute_result",
          "data": {
            "text/plain": [
              "['if', 'you']"
            ]
          },
          "metadata": {},
          "execution_count": 63
        }
      ]
    },
    {
      "cell_type": "code",
      "source": [
        "len(TextOnlyParagraphs)"
      ],
      "metadata": {
        "colab": {
          "base_uri": "https://localhost:8080/",
          "height": 0
        },
        "id": "RtVzuPGCyZqu",
        "outputId": "9fc78147-e9f7-4568-ef88-836cfa35e0a6"
      },
      "execution_count": 64,
      "outputs": [
        {
          "output_type": "execute_result",
          "data": {
            "text/plain": [
              "45931"
            ]
          },
          "metadata": {},
          "execution_count": 64
        }
      ]
    },
    {
      "cell_type": "code",
      "source": [
        "UniqueWordsParagraphs = set(TextOnlyParagraphs)"
      ],
      "metadata": {
        "id": "cEGGIRL_y7wr"
      },
      "execution_count": 65,
      "outputs": []
    },
    {
      "cell_type": "code",
      "source": [
        "len(UniqueWordsParagraphs) #15816/101330=15.6% Unique%=UniqueWords/TextOnlyTweet"
      ],
      "metadata": {
        "colab": {
          "base_uri": "https://localhost:8080/",
          "height": 0
        },
        "id": "iSW4Sem3y75B",
        "outputId": "37bb79eb-3846-4cee-89e3-69e680926b1d"
      },
      "execution_count": 66,
      "outputs": [
        {
          "output_type": "execute_result",
          "data": {
            "text/plain": [
              "5691"
            ]
          },
          "metadata": {},
          "execution_count": 66
        }
      ]
    },
    {
      "cell_type": "code",
      "source": [
        "ParagraphsWithoutStopwords = [[word for word in TextOnlyParagraphs if not word in stop_words] #works\n",
        "              for TextOnlyParagraphs in ListlowercasewordsParagraphs]"
      ],
      "metadata": {
        "id": "Sh2Op01Dy8AJ"
      },
      "execution_count": 67,
      "outputs": []
    },
    {
      "cell_type": "code",
      "source": [
        "ParagraphsWithoutStopwords[0]"
      ],
      "metadata": {
        "colab": {
          "base_uri": "https://localhost:8080/",
          "height": 0
        },
        "id": "bMJys8wTzrXE",
        "outputId": "b6785861-fc96-4fae-c8c7-05c2c2dfa7fd"
      },
      "execution_count": 68,
      "outputs": [
        {
          "output_type": "execute_result",
          "data": {
            "text/plain": [
              "['going',\n",
              " 'canning',\n",
              " 'long',\n",
              " 'term',\n",
              " 'storage',\n",
              " 'need',\n",
              " 'pressure',\n",
              " 'canning',\n",
              " 'mean',\n",
              " 'pretty',\n",
              " 'high',\n",
              " 'heat',\n",
              " 'youd',\n",
              " 'better',\n",
              " 'cooking',\n",
              " 'beans',\n",
              " 'long',\n",
              " 'canning',\n",
              " 'id',\n",
              " 'add',\n",
              " 'minutes',\n",
              " 'end',\n",
              " 'cooking',\n",
              " 'get',\n",
              " 'warmed',\n",
              " 'preparation',\n",
              " 'canning',\n",
              " 'half',\n",
              " 'hour',\n",
              " 'cooking',\n",
              " 'plus',\n",
              " 'pressure',\n",
              " 'canning',\n",
              " 'would',\n",
              " 'probably',\n",
              " 'mean',\n",
              " 'mush',\n",
              " 'cannotanswer']"
            ]
          },
          "metadata": {},
          "execution_count": 68
        }
      ]
    },
    {
      "cell_type": "code",
      "source": [
        "ParagraphsWithoutStopword = list(itertools.chain(*ParagraphsWithoutStopwords))"
      ],
      "metadata": {
        "id": "b5jT-HYKzrgQ"
      },
      "execution_count": 69,
      "outputs": []
    },
    {
      "cell_type": "code",
      "source": [
        "CountParagraphsWithoutStopwords = collections.Counter(ParagraphsWithoutStopword)"
      ],
      "metadata": {
        "id": "VsahowbFzro0"
      },
      "execution_count": 70,
      "outputs": []
    },
    {
      "cell_type": "code",
      "source": [
        "CountParagraphsWithoutStopwords.most_common(10)"
      ],
      "metadata": {
        "colab": {
          "base_uri": "https://localhost:8080/",
          "height": 0
        },
        "id": "fHNvhySby8IF",
        "outputId": "85db6986-e848-4bf9-8257-1bb4556a67f7"
      },
      "execution_count": 71,
      "outputs": [
        {
          "output_type": "execute_result",
          "data": {
            "text/plain": [
              "[('cannotanswer', 400),\n",
              " ('use', 195),\n",
              " ('would', 177),\n",
              " ('water', 154),\n",
              " ('like', 153),\n",
              " ('time', 137),\n",
              " ('get', 133),\n",
              " ('dont', 125),\n",
              " ('make', 124),\n",
              " ('cooking', 116)]"
            ]
          },
          "metadata": {},
          "execution_count": 71
        }
      ]
    },
    {
      "cell_type": "code",
      "source": [
        "ParagraphsWithoutStopwords = pd.DataFrame(CountParagraphsWithoutStopwords.most_common(25),\n",
        "                             columns=['words', 'count'])\n",
        "\n",
        "fig, ax = plt.subplots(figsize=(8, 8))\n",
        "\n",
        "# Plot horizontal bar graph\n",
        "ParagraphsWithoutStopwords.sort_values(by='count').plot.barh(x='words',\n",
        "                      y='count',\n",
        "                      ax=ax,\n",
        "                      color=\"purple\")\n",
        "\n",
        "ax.set_title(\"Common Words Found in Paragraphs Of Cooking Test Data (Without Stop Words)\")\n",
        "\n",
        "plt.show()"
      ],
      "metadata": {
        "colab": {
          "base_uri": "https://localhost:8080/",
          "height": 699
        },
        "id": "qS8k89co0JPP",
        "outputId": "b108a615-59f7-4d75-e0cf-007fa91eafa7"
      },
      "execution_count": 72,
      "outputs": [
        {
          "output_type": "display_data",
          "data": {
            "text/plain": [
              "<Figure size 800x800 with 1 Axes>"
            ],
            "image/png": "[encoded data removed]"
          },
          "metadata": {}
        }
      ]
    },
    {
      "cell_type": "code",
      "source": [
        "# Create list of lists containing bigrams in tweets\n",
        "Paragraphsbigram = [list(bigrams(Paragraphs)) for Paragraphs in ParagraphsWithoutStopwords]"
      ],
      "metadata": {
        "id": "9qtCKtb90JZu"
      },
      "execution_count": 73,
      "outputs": []
    },
    {
      "cell_type": "code",
      "source": [
        "# View bigrams for the first tweet\n",
        "Paragraphsbigram[:]"
      ],
      "metadata": {
        "colab": {
          "base_uri": "https://localhost:8080/",
          "height": 0
        },
        "id": "4euEFLSl0Jkm",
        "outputId": "f79a1953-085d-4685-fd77-93bc5fc612e0"
      },
      "execution_count": 74,
      "outputs": [
        {
          "output_type": "execute_result",
          "data": {
            "text/plain": [
              "[[('w', 'o'), ('o', 'r'), ('r', 'd'), ('d', 's')],\n",
              " [('c', 'o'), ('o', 'u'), ('u', 'n'), ('n', 't')]]"
            ]
          },
          "metadata": {},
          "execution_count": 74
        }
      ]
    },
    {
      "cell_type": "code",
      "source": [],
      "metadata": {
        "id": "NpMv_0muvyAQ"
      },
      "execution_count": 74,
      "outputs": []
    },
    {
      "cell_type": "code",
      "source": [],
      "metadata": {
        "id": "4g7h2eZUvyGl"
      },
      "execution_count": 74,
      "outputs": []
    },
    {
      "cell_type": "code",
      "source": [],
      "metadata": {
        "id": "KWUi09JnspTt"
      },
      "execution_count": 74,
      "outputs": []
    },
    {
      "cell_type": "markdown",
      "source": [],
      "metadata": {
        "id": "wRQ57IS0C6ot"
      }
    },
    {
      "cell_type": "code",
      "source": [],
      "metadata": {
        "id": "_r-bt_j2rczz"
      },
      "execution_count": 74,
      "outputs": []
    }
  ]
}